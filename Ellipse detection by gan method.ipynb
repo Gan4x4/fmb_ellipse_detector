{
 "cells": [
  {
   "cell_type": "code",
   "execution_count": 53,
   "metadata": {},
   "outputs": [
    {
     "name": "stdout",
     "output_type": "stream",
     "text": [
      "The autoreload extension is already loaded. To reload it, use:\n",
      "  %reload_ext autoreload\n"
     ]
    },
    {
     "data": {
      "image/png": "[encoded data removed]",
      "text/plain": [
       "<matplotlib.figure.Figure at 0x7fa72a43e190>"
      ]
     },
     "metadata": {},
     "output_type": "display_data"
    },
    {
     "name": "stdout",
     "output_type": "stream",
     "text": [
      "[[45, 71], [47, 64], [85, 26], [115, 71], [114, 90], [113, 96], [75, 134], [45, 89]]\n",
      "[[45, 71], [47, 64], [85, 26], [115, 71], [114, 90]]\n",
      "[  5.83842056e-05   1.51575087e-04  -2.95127605e-05  -7.52132598e-03\n",
      "  -2.18534577e-02   1.00000000e+00]\n",
      "Ellipse? True\n",
      "[[113, 96], [75, 134], [45, 89]]\n"
     ]
    },
    {
     "data": {
      "image/png": "[encoded data removed]",
      "text/plain": [
       "<matplotlib.figure.Figure at 0x7fa72a750e10>"
      ]
     },
     "metadata": {},
     "output_type": "display_data"
    }
   ],
   "source": [
    "import test\n",
    "import numpy as np\n",
    "from skimage.draw import ellipse_perimeter\n",
    "import matplotlib.pyplot as plt\n",
    "from skimage import data, color, img_as_ubyte\n",
    "import random\n",
    "\n",
    "import os\n",
    "import sys\n",
    "nb_dir = os.path.split(os.getcwd())[0]\n",
    "if nb_dir not in sys.path:\n",
    "    sys.path.append(nb_dir)\n",
    "    \n",
    "from common.crawler import Crawler\n",
    "from common.contour import Contour\n",
    "import common.helper as helper\n",
    "from common.curve2 import Curve2\n",
    "    \n",
    "    \n",
    "%load_ext autoreload\n",
    "%autoreload 2\n",
    "    \n",
    "def get_random_color():\n",
    "    return [random.randint(0,255),random.randint(0,255),random.randint(0,255)]\n",
    "#original = np.loadtxt(\"skeleton.nympy\")\n",
    "\n",
    "IMG_H = 160 \n",
    "IMG_W = 180\n",
    "img = np.zeros((IMG_H, IMG_W), dtype=np.uint8)\n",
    "rr, cc = ellipse_perimeter(80, 80, 35, 55)\n",
    "img[rr, cc] = 1\n",
    "plt.title(\"Original ellipse\");\n",
    "plt.imshow(img)\n",
    "plt.show()\n",
    "\n",
    "#Find contours on picture\n",
    "crawler = Crawler(img_as_ubyte(img))\n",
    "crawler.MIN_LEN = 10\n",
    "crawler.run()\n",
    "\n",
    "# Draw finded contours on original image\n",
    "res_img = color.gray2rgb(img_as_ubyte(img))\n",
    "i = 0\n",
    "for c in crawler.curves:\n",
    "    contour = Contour(c)\n",
    "    res_img = contour.draw_on_image(res_img,[250,0,0])\n",
    "    i = i + 125\n",
    "    points = contour.get_valuable_points()\n",
    "    print points\n",
    "    \n",
    "    for mark in range(0,len(points),5):\n",
    "        five = points[mark:mark+5]\n",
    "        print five\n",
    "        color = get_random_color()\n",
    "        for point in five:\n",
    "            res_img[point[0],point[1]] = color\n",
    "        if len(five) == 5:\n",
    "            koeff = helper.find_ellipse(helper.points2coords(five,IMG_H))\n",
    "            print koeff \n",
    "            curve2 = Curve2(koeff)\n",
    "            print \"Ellipse? \" + str(curve2.isEllipse())\n",
    "            helper.draw_curve2_on_image(res_img,curve2,color)\n",
    "            \n",
    "    \n",
    "        \n",
    "    \n",
    "plt.title(\"Curve after traverse\");\n",
    "plt.imshow(res_img)\n",
    "plt.show()\n",
    "\n",
    "\n",
    "\n"
   ]
  }
 ],
 "metadata": {
  "kernelspec": {
   "display_name": "Python 2",
   "language": "python",
   "name": "python2"
  },
  "language_info": {
   "codemirror_mode": {
    "name": "ipython",
    "version": 2
   },
   "file_extension": ".py",
   "mimetype": "text/x-python",
   "name": "python",
   "nbconvert_exporter": "python",
   "pygments_lexer": "ipython2",
   "version": "2.7.13"
  }
 },
 "nbformat": 4,
 "nbformat_minor": 2
}
