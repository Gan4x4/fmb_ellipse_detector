{
 "cells": [
  {
   "cell_type": "code",
   "execution_count": 1,
   "metadata": {},
   "outputs": [
    {
     "name": "stdout",
     "output_type": "stream",
     "text": [
      "[[5.0, 2.0, 4.0], [2.0, 8.0, 7.0], [4.0, 7.0, 5.0]]\n",
      "isValid: True\n",
      "D 36.0\n",
      "Elliptic\n"
     ]
    },
    {
     "data": {
      "image/png": "[encoded data removed]",
      "text/plain": [
       "<matplotlib.figure.Figure at 0x7f81d5d25ed0>"
      ]
     },
     "metadata": {},
     "output_type": "display_data"
    }
   ],
   "source": [
    "import matplotlib.pyplot as plt\n",
    "import math\n",
    "import numpy as np\n",
    "\n",
    "class Curve2:\n",
    "    def __init__(self, A,B,C,D,E,F):\n",
    "        # Ax^2+By^2+2Cxy+2Dx+2Ey+F\n",
    "        two = float(2)\n",
    "        self.a = [[float(A),C/two,D/two],[C/two,float(B),E/two],[D/two,E/two,float(F)]]\n",
    "        \n",
    "    def isValid(self):\n",
    "        \n",
    "        return not math.pow(self.a[1][1],2)+math.pow(self.a[1][2],2)+math.pow(self.a[2][2],2) == 0\n",
    "    \n",
    "    def det(self):\n",
    "        a11 = self.a[0][0]\n",
    "        a12 = self.a[0][1]\n",
    "        a22 = self.a[1][1]\n",
    "        matrix =np.array([ \n",
    "            [ a11, a12 ],\n",
    "            [ a12, a22 ]\n",
    "        ])\n",
    "        return np.linalg.det(matrix)\n",
    "    def getType(self):\n",
    "        D = self.det\n",
    "        if D == 0:\n",
    "            return \"Parabolic\"\n",
    "        else:\n",
    "            if D > 0:\n",
    "                return \"Elliptic\"\n",
    "        return \"Giperbolic\"\n",
    "    def getY(self,x):\n",
    "        A = self.a[0][0]  # a11\n",
    "        B = 2*(self.a[1][0]*x+self.a[1][2])\n",
    "        C = A*pow(x,2)+2*self.a[0][2]*x+self.a[2][2]\n",
    "        return sqEquation(A,B,C)\n",
    "        \n",
    "    def toPlot(self,interval):\n",
    "        x = []\n",
    "        y = []\n",
    "        for i in interval:\n",
    "            tmp = self.getY(i)\n",
    "            if not tmp == False:\n",
    "                y.append(tmp)\n",
    "                x.append(i)\n",
    "        return [x,y]\n",
    "    \n",
    "def sqEquation(A,B,C):\n",
    "    D = B*B - 4*A*C\n",
    "    #print D\n",
    "    if D == 0:\n",
    "        return -B/(2*A)\n",
    "    if D >= 0:\n",
    "        z = math.sqrt(D)\n",
    "        #print z\n",
    "        y1 = (-1*B + z)/(2*A)\n",
    "        y2 = (-1*B - z)/(2*A)\n",
    "        return [y1,y2]\n",
    "    return False\n",
    "\n",
    "ellips = Curve2(5,8,4,8,14,5)\n",
    "print ellips.a\n",
    "print \"isValid: \"+str(ellips.isValid())\n",
    "print \"D \"+str(ellips.det())\n",
    "print ellips.getType()\n",
    "coords = ellips.toPlot(np.arange(-15.0, 15.0, 0.01))\n",
    "#print coords\n",
    "plt.plot(coords[0], coords[1])\n",
    "plt.show()\n"
   ]
  }
 ],
 "metadata": {
  "kernelspec": {
   "display_name": "Python 2",
   "language": "python",
   "name": "python2"
  },
  "language_info": {
   "codemirror_mode": {
    "name": "ipython",
    "version": 2
   },
   "file_extension": ".py",
   "mimetype": "text/x-python",
   "name": "python",
   "nbconvert_exporter": "python",
   "pygments_lexer": "ipython2",
   "version": "2.7.13"
  }
 },
 "nbformat": 4,
 "nbformat_minor": 2
}
